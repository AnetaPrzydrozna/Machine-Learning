{
 "cells": [
  {
   "cell_type": "code",
   "execution_count": 10,
   "metadata": {},
   "outputs": [],
   "source": [
    "import pandas as pd\n",
    "import numpy as np\n",
    "\n",
    "from fbprophet import Prophet\n",
    "import matplotlib.pyplot as plt"
   ]
  },
  {
   "cell_type": "code",
   "execution_count": 5,
   "metadata": {},
   "outputs": [
    {
     "data": {
      "text/html": [
       "<div>\n",
       "<style scoped>\n",
       "    .dataframe tbody tr th:only-of-type {\n",
       "        vertical-align: middle;\n",
       "    }\n",
       "\n",
       "    .dataframe tbody tr th {\n",
       "        vertical-align: top;\n",
       "    }\n",
       "\n",
       "    .dataframe thead th {\n",
       "        text-align: right;\n",
       "    }\n",
       "</style>\n",
       "<table border=\"1\" class=\"dataframe\">\n",
       "  <thead>\n",
       "    <tr style=\"text-align: right;\">\n",
       "      <th></th>\n",
       "      <th>year</th>\n",
       "      <th>month</th>\n",
       "      <th>day</th>\n",
       "      <th>decimal</th>\n",
       "      <th>ppm</th>\n",
       "      <th>#days</th>\n",
       "      <th>1 yr ago</th>\n",
       "      <th>10 yr ago</th>\n",
       "      <th>since 1800</th>\n",
       "    </tr>\n",
       "  </thead>\n",
       "  <tbody>\n",
       "    <tr>\n",
       "      <th>0</th>\n",
       "      <td>1974</td>\n",
       "      <td>5</td>\n",
       "      <td>19</td>\n",
       "      <td>1974.3795</td>\n",
       "      <td>333.34</td>\n",
       "      <td>6</td>\n",
       "      <td>-999.99</td>\n",
       "      <td>-999.99</td>\n",
       "      <td>50.36</td>\n",
       "    </tr>\n",
       "    <tr>\n",
       "      <th>1</th>\n",
       "      <td>1974</td>\n",
       "      <td>5</td>\n",
       "      <td>26</td>\n",
       "      <td>1974.3986</td>\n",
       "      <td>332.95</td>\n",
       "      <td>6</td>\n",
       "      <td>-999.99</td>\n",
       "      <td>-999.99</td>\n",
       "      <td>50.06</td>\n",
       "    </tr>\n",
       "    <tr>\n",
       "      <th>2</th>\n",
       "      <td>1974</td>\n",
       "      <td>6</td>\n",
       "      <td>2</td>\n",
       "      <td>1974.4178</td>\n",
       "      <td>332.32</td>\n",
       "      <td>5</td>\n",
       "      <td>-999.99</td>\n",
       "      <td>-999.99</td>\n",
       "      <td>49.57</td>\n",
       "    </tr>\n",
       "    <tr>\n",
       "      <th>3</th>\n",
       "      <td>1974</td>\n",
       "      <td>6</td>\n",
       "      <td>9</td>\n",
       "      <td>1974.4370</td>\n",
       "      <td>332.18</td>\n",
       "      <td>7</td>\n",
       "      <td>-999.99</td>\n",
       "      <td>-999.99</td>\n",
       "      <td>49.63</td>\n",
       "    </tr>\n",
       "    <tr>\n",
       "      <th>4</th>\n",
       "      <td>1974</td>\n",
       "      <td>6</td>\n",
       "      <td>16</td>\n",
       "      <td>1974.4562</td>\n",
       "      <td>332.37</td>\n",
       "      <td>7</td>\n",
       "      <td>-999.99</td>\n",
       "      <td>-999.99</td>\n",
       "      <td>50.07</td>\n",
       "    </tr>\n",
       "  </tbody>\n",
       "</table>\n",
       "</div>"
      ],
      "text/plain": [
       "   year  month  day    decimal     ppm  #days  1 yr ago  10 yr ago  since 1800\n",
       "0  1974      5   19  1974.3795  333.34      6   -999.99    -999.99       50.36\n",
       "1  1974      5   26  1974.3986  332.95      6   -999.99    -999.99       50.06\n",
       "2  1974      6    2  1974.4178  332.32      5   -999.99    -999.99       49.57\n",
       "3  1974      6    9  1974.4370  332.18      7   -999.99    -999.99       49.63\n",
       "4  1974      6   16  1974.4562  332.37      7   -999.99    -999.99       50.07"
      ]
     },
     "execution_count": 5,
     "metadata": {},
     "output_type": "execute_result"
    }
   ],
   "source": [
    "path='https://raw.githubusercontent.com/dataworkshop/5dwchallenge_2019/master/challenge5/input/mauna_loa.csv'\n",
    "df=pd.read_csv(path)\n",
    "df.head()"
   ]
  },
  {
   "cell_type": "code",
   "execution_count": 6,
   "metadata": {},
   "outputs": [],
   "source": [
    "df['date']=pd.to_datetime(df[['year','month','day']])"
   ]
  },
  {
   "cell_type": "code",
   "execution_count": 8,
   "metadata": {},
   "outputs": [],
   "source": [
    "df['ppm_fixed']=df['ppm'].map(lambda x: np.nan if x<0 else x)\n",
    "df['ppm_fixed'].fillna(method='backfill', inplace=True)"
   ]
  },
  {
   "cell_type": "code",
   "execution_count": 9,
   "metadata": {},
   "outputs": [
    {
     "data": {
      "image/png": "[encoded data removed]",
      "text/plain": [
       "<Figure size 432x288 with 1 Axes>"
      ]
     },
     "metadata": {
      "needs_background": "light"
     },
     "output_type": "display_data"
    }
   ],
   "source": [
    "plt.plot(df.date,df.ppm_fixed);"
   ]
  },
  {
   "cell_type": "code",
   "execution_count": 13,
   "metadata": {},
   "outputs": [
    {
     "data": {
      "image/png": "[encoded data removed]",
      "text/plain": [
       "<Figure size 432x288 with 1 Axes>"
      ]
     },
     "metadata": {
      "needs_background": "light"
     },
     "output_type": "display_data"
    }
   ],
   "source": [
    "train=df[df.year<2010]\n",
    "test=df[df.year>=2010]\n",
    "\n",
    "plt.plot(train.date, train.ppm_fixed, label='train');\n",
    "plt.plot(test.date, test.ppm_fixed, label='test');\n",
    "plt.legend();"
   ]
  },
  {
   "cell_type": "markdown",
   "metadata": {},
   "source": [
    "# Prophet"
   ]
  },
  {
   "cell_type": "code",
   "execution_count": 15,
   "metadata": {},
   "outputs": [
    {
     "data": {
      "text/html": [
       "<div>\n",
       "<style scoped>\n",
       "    .dataframe tbody tr th:only-of-type {\n",
       "        vertical-align: middle;\n",
       "    }\n",
       "\n",
       "    .dataframe tbody tr th {\n",
       "        vertical-align: top;\n",
       "    }\n",
       "\n",
       "    .dataframe thead th {\n",
       "        text-align: right;\n",
       "    }\n",
       "</style>\n",
       "<table border=\"1\" class=\"dataframe\">\n",
       "  <thead>\n",
       "    <tr style=\"text-align: right;\">\n",
       "      <th></th>\n",
       "      <th>ds</th>\n",
       "      <th>y</th>\n",
       "    </tr>\n",
       "  </thead>\n",
       "  <tbody>\n",
       "    <tr>\n",
       "      <th>0</th>\n",
       "      <td>1974-05-19</td>\n",
       "      <td>333.34</td>\n",
       "    </tr>\n",
       "    <tr>\n",
       "      <th>1</th>\n",
       "      <td>1974-05-26</td>\n",
       "      <td>332.95</td>\n",
       "    </tr>\n",
       "    <tr>\n",
       "      <th>2</th>\n",
       "      <td>1974-06-02</td>\n",
       "      <td>332.32</td>\n",
       "    </tr>\n",
       "    <tr>\n",
       "      <th>3</th>\n",
       "      <td>1974-06-09</td>\n",
       "      <td>332.18</td>\n",
       "    </tr>\n",
       "    <tr>\n",
       "      <th>4</th>\n",
       "      <td>1974-06-16</td>\n",
       "      <td>332.37</td>\n",
       "    </tr>\n",
       "  </tbody>\n",
       "</table>\n",
       "</div>"
      ],
      "text/plain": [
       "          ds       y\n",
       "0 1974-05-19  333.34\n",
       "1 1974-05-26  332.95\n",
       "2 1974-06-02  332.32\n",
       "3 1974-06-09  332.18\n",
       "4 1974-06-16  332.37"
      ]
     },
     "execution_count": 15,
     "metadata": {},
     "output_type": "execute_result"
    }
   ],
   "source": [
    "fb_df=train[['date','ppm_fixed']].copy()\n",
    "fb_df.columns=['ds','y']\n",
    "\n",
    "fb_df.head()"
   ]
  },
  {
   "cell_type": "code",
   "execution_count": 16,
   "metadata": {},
   "outputs": [
    {
     "name": "stderr",
     "output_type": "stream",
     "text": [
      "INFO:fbprophet:Disabling weekly seasonality. Run prophet with weekly_seasonality=True to override this.\n",
      "INFO:fbprophet:Disabling daily seasonality. Run prophet with daily_seasonality=True to override this.\n",
      "C:\\Users\\jokes\\Anaconda3\\lib\\site-packages\\pystan\\misc.py:399: FutureWarning:\n",
      "\n",
      "Conversion of the second argument of issubdtype from `float` to `np.floating` is deprecated. In future, it will be treated as `np.float64 == np.dtype(float).type`.\n",
      "\n"
     ]
    },
    {
     "data": {
      "text/plain": [
       "<fbprophet.forecaster.Prophet at 0x2670118aeb8>"
      ]
     },
     "execution_count": 16,
     "metadata": {},
     "output_type": "execute_result"
    }
   ],
   "source": [
    "m=Prophet()\n",
    "m.fit(fb_df)"
   ]
  },
  {
   "cell_type": "code",
   "execution_count": 19,
   "metadata": {},
   "outputs": [
    {
     "data": {
      "text/html": [
       "<div>\n",
       "<style scoped>\n",
       "    .dataframe tbody tr th:only-of-type {\n",
       "        vertical-align: middle;\n",
       "    }\n",
       "\n",
       "    .dataframe tbody tr th {\n",
       "        vertical-align: top;\n",
       "    }\n",
       "\n",
       "    .dataframe thead th {\n",
       "        text-align: right;\n",
       "    }\n",
       "</style>\n",
       "<table border=\"1\" class=\"dataframe\">\n",
       "  <thead>\n",
       "    <tr style=\"text-align: right;\">\n",
       "      <th></th>\n",
       "      <th>ds</th>\n",
       "    </tr>\n",
       "  </thead>\n",
       "  <tbody>\n",
       "    <tr>\n",
       "      <th>457</th>\n",
       "      <td>2018-10-07</td>\n",
       "    </tr>\n",
       "    <tr>\n",
       "      <th>458</th>\n",
       "      <td>2018-10-14</td>\n",
       "    </tr>\n",
       "    <tr>\n",
       "      <th>459</th>\n",
       "      <td>2018-10-21</td>\n",
       "    </tr>\n",
       "    <tr>\n",
       "      <th>460</th>\n",
       "      <td>2018-10-28</td>\n",
       "    </tr>\n",
       "    <tr>\n",
       "      <th>461</th>\n",
       "      <td>2018-11-04</td>\n",
       "    </tr>\n",
       "  </tbody>\n",
       "</table>\n",
       "</div>"
      ],
      "text/plain": [
       "            ds\n",
       "457 2018-10-07\n",
       "458 2018-10-14\n",
       "459 2018-10-21\n",
       "460 2018-10-28\n",
       "461 2018-11-04"
      ]
     },
     "execution_count": 19,
     "metadata": {},
     "output_type": "execute_result"
    }
   ],
   "source": [
    "future=m.make_future_dataframe(periods=len(test),freq='W',include_history=False)\n",
    "future.tail()"
   ]
  },
  {
   "cell_type": "code",
   "execution_count": 20,
   "metadata": {},
   "outputs": [
    {
     "data": {
      "text/html": [
       "<div>\n",
       "<style scoped>\n",
       "    .dataframe tbody tr th:only-of-type {\n",
       "        vertical-align: middle;\n",
       "    }\n",
       "\n",
       "    .dataframe tbody tr th {\n",
       "        vertical-align: top;\n",
       "    }\n",
       "\n",
       "    .dataframe thead th {\n",
       "        text-align: right;\n",
       "    }\n",
       "</style>\n",
       "<table border=\"1\" class=\"dataframe\">\n",
       "  <thead>\n",
       "    <tr style=\"text-align: right;\">\n",
       "      <th></th>\n",
       "      <th>year</th>\n",
       "      <th>month</th>\n",
       "      <th>day</th>\n",
       "      <th>decimal</th>\n",
       "      <th>ppm</th>\n",
       "      <th>#days</th>\n",
       "      <th>1 yr ago</th>\n",
       "      <th>10 yr ago</th>\n",
       "      <th>since 1800</th>\n",
       "      <th>date</th>\n",
       "      <th>ppm_fixed</th>\n",
       "    </tr>\n",
       "  </thead>\n",
       "  <tbody>\n",
       "    <tr>\n",
       "      <th>2316</th>\n",
       "      <td>2018</td>\n",
       "      <td>10</td>\n",
       "      <td>7</td>\n",
       "      <td>2018.7658</td>\n",
       "      <td>405.58</td>\n",
       "      <td>7</td>\n",
       "      <td>403.38</td>\n",
       "      <td>382.78</td>\n",
       "      <td>129.25</td>\n",
       "      <td>2018-10-07</td>\n",
       "      <td>405.58</td>\n",
       "    </tr>\n",
       "    <tr>\n",
       "      <th>2317</th>\n",
       "      <td>2018</td>\n",
       "      <td>10</td>\n",
       "      <td>14</td>\n",
       "      <td>2018.7849</td>\n",
       "      <td>406.00</td>\n",
       "      <td>6</td>\n",
       "      <td>403.81</td>\n",
       "      <td>382.92</td>\n",
       "      <td>129.45</td>\n",
       "      <td>2018-10-14</td>\n",
       "      <td>406.00</td>\n",
       "    </tr>\n",
       "    <tr>\n",
       "      <th>2318</th>\n",
       "      <td>2018</td>\n",
       "      <td>10</td>\n",
       "      <td>21</td>\n",
       "      <td>2018.8041</td>\n",
       "      <td>406.62</td>\n",
       "      <td>7</td>\n",
       "      <td>404.04</td>\n",
       "      <td>383.04</td>\n",
       "      <td>129.77</td>\n",
       "      <td>2018-10-21</td>\n",
       "      <td>406.62</td>\n",
       "    </tr>\n",
       "    <tr>\n",
       "      <th>2319</th>\n",
       "      <td>2018</td>\n",
       "      <td>10</td>\n",
       "      <td>28</td>\n",
       "      <td>2018.8233</td>\n",
       "      <td>406.48</td>\n",
       "      <td>6</td>\n",
       "      <td>404.07</td>\n",
       "      <td>383.96</td>\n",
       "      <td>129.29</td>\n",
       "      <td>2018-10-28</td>\n",
       "      <td>406.48</td>\n",
       "    </tr>\n",
       "    <tr>\n",
       "      <th>2320</th>\n",
       "      <td>2018</td>\n",
       "      <td>11</td>\n",
       "      <td>4</td>\n",
       "      <td>2018.8425</td>\n",
       "      <td>406.99</td>\n",
       "      <td>5</td>\n",
       "      <td>404.26</td>\n",
       "      <td>383.80</td>\n",
       "      <td>129.43</td>\n",
       "      <td>2018-11-04</td>\n",
       "      <td>406.99</td>\n",
       "    </tr>\n",
       "  </tbody>\n",
       "</table>\n",
       "</div>"
      ],
      "text/plain": [
       "      year  month  day    decimal     ppm  #days  1 yr ago  10 yr ago  \\\n",
       "2316  2018     10    7  2018.7658  405.58      7    403.38     382.78   \n",
       "2317  2018     10   14  2018.7849  406.00      6    403.81     382.92   \n",
       "2318  2018     10   21  2018.8041  406.62      7    404.04     383.04   \n",
       "2319  2018     10   28  2018.8233  406.48      6    404.07     383.96   \n",
       "2320  2018     11    4  2018.8425  406.99      5    404.26     383.80   \n",
       "\n",
       "      since 1800       date  ppm_fixed  \n",
       "2316      129.25 2018-10-07     405.58  \n",
       "2317      129.45 2018-10-14     406.00  \n",
       "2318      129.77 2018-10-21     406.62  \n",
       "2319      129.29 2018-10-28     406.48  \n",
       "2320      129.43 2018-11-04     406.99  "
      ]
     },
     "execution_count": 20,
     "metadata": {},
     "output_type": "execute_result"
    }
   ],
   "source": [
    "test.tail()"
   ]
  },
  {
   "cell_type": "code",
   "execution_count": 21,
   "metadata": {},
   "outputs": [
    {
     "data": {
      "text/html": [
       "<div>\n",
       "<style scoped>\n",
       "    .dataframe tbody tr th:only-of-type {\n",
       "        vertical-align: middle;\n",
       "    }\n",
       "\n",
       "    .dataframe tbody tr th {\n",
       "        vertical-align: top;\n",
       "    }\n",
       "\n",
       "    .dataframe thead th {\n",
       "        text-align: right;\n",
       "    }\n",
       "</style>\n",
       "<table border=\"1\" class=\"dataframe\">\n",
       "  <thead>\n",
       "    <tr style=\"text-align: right;\">\n",
       "      <th></th>\n",
       "      <th>ds</th>\n",
       "      <th>trend</th>\n",
       "      <th>yhat_lower</th>\n",
       "      <th>yhat_upper</th>\n",
       "      <th>trend_lower</th>\n",
       "      <th>trend_upper</th>\n",
       "      <th>additive_terms</th>\n",
       "      <th>additive_terms_lower</th>\n",
       "      <th>additive_terms_upper</th>\n",
       "      <th>yearly</th>\n",
       "      <th>yearly_lower</th>\n",
       "      <th>yearly_upper</th>\n",
       "      <th>multiplicative_terms</th>\n",
       "      <th>multiplicative_terms_lower</th>\n",
       "      <th>multiplicative_terms_upper</th>\n",
       "      <th>yhat</th>\n",
       "    </tr>\n",
       "  </thead>\n",
       "  <tbody>\n",
       "    <tr>\n",
       "      <th>0</th>\n",
       "      <td>2010-01-03</td>\n",
       "      <td>388.638951</td>\n",
       "      <td>387.929161</td>\n",
       "      <td>388.974951</td>\n",
       "      <td>388.638951</td>\n",
       "      <td>388.638951</td>\n",
       "      <td>-0.172796</td>\n",
       "      <td>-0.172796</td>\n",
       "      <td>-0.172796</td>\n",
       "      <td>-0.172796</td>\n",
       "      <td>-0.172796</td>\n",
       "      <td>-0.172796</td>\n",
       "      <td>0.0</td>\n",
       "      <td>0.0</td>\n",
       "      <td>0.0</td>\n",
       "      <td>388.466155</td>\n",
       "    </tr>\n",
       "    <tr>\n",
       "      <th>1</th>\n",
       "      <td>2010-01-10</td>\n",
       "      <td>388.676922</td>\n",
       "      <td>388.145104</td>\n",
       "      <td>389.233630</td>\n",
       "      <td>388.676922</td>\n",
       "      <td>388.676922</td>\n",
       "      <td>0.020935</td>\n",
       "      <td>0.020935</td>\n",
       "      <td>0.020935</td>\n",
       "      <td>0.020935</td>\n",
       "      <td>0.020935</td>\n",
       "      <td>0.020935</td>\n",
       "      <td>0.0</td>\n",
       "      <td>0.0</td>\n",
       "      <td>0.0</td>\n",
       "      <td>388.697858</td>\n",
       "    </tr>\n",
       "    <tr>\n",
       "      <th>2</th>\n",
       "      <td>2010-01-17</td>\n",
       "      <td>388.714894</td>\n",
       "      <td>388.366800</td>\n",
       "      <td>389.470560</td>\n",
       "      <td>388.714894</td>\n",
       "      <td>388.714894</td>\n",
       "      <td>0.204743</td>\n",
       "      <td>0.204743</td>\n",
       "      <td>0.204743</td>\n",
       "      <td>0.204743</td>\n",
       "      <td>0.204743</td>\n",
       "      <td>0.204743</td>\n",
       "      <td>0.0</td>\n",
       "      <td>0.0</td>\n",
       "      <td>0.0</td>\n",
       "      <td>388.919637</td>\n",
       "    </tr>\n",
       "    <tr>\n",
       "      <th>3</th>\n",
       "      <td>2010-01-24</td>\n",
       "      <td>388.752865</td>\n",
       "      <td>388.575521</td>\n",
       "      <td>389.632074</td>\n",
       "      <td>388.752865</td>\n",
       "      <td>388.752865</td>\n",
       "      <td>0.366827</td>\n",
       "      <td>0.366827</td>\n",
       "      <td>0.366827</td>\n",
       "      <td>0.366827</td>\n",
       "      <td>0.366827</td>\n",
       "      <td>0.366827</td>\n",
       "      <td>0.0</td>\n",
       "      <td>0.0</td>\n",
       "      <td>0.0</td>\n",
       "      <td>389.119692</td>\n",
       "    </tr>\n",
       "    <tr>\n",
       "      <th>4</th>\n",
       "      <td>2010-01-31</td>\n",
       "      <td>388.790836</td>\n",
       "      <td>388.765532</td>\n",
       "      <td>389.805666</td>\n",
       "      <td>388.790836</td>\n",
       "      <td>388.790836</td>\n",
       "      <td>0.503901</td>\n",
       "      <td>0.503901</td>\n",
       "      <td>0.503901</td>\n",
       "      <td>0.503901</td>\n",
       "      <td>0.503901</td>\n",
       "      <td>0.503901</td>\n",
       "      <td>0.0</td>\n",
       "      <td>0.0</td>\n",
       "      <td>0.0</td>\n",
       "      <td>389.294737</td>\n",
       "    </tr>\n",
       "  </tbody>\n",
       "</table>\n",
       "</div>"
      ],
      "text/plain": [
       "          ds       trend  yhat_lower  yhat_upper  trend_lower  trend_upper  \\\n",
       "0 2010-01-03  388.638951  387.929161  388.974951   388.638951   388.638951   \n",
       "1 2010-01-10  388.676922  388.145104  389.233630   388.676922   388.676922   \n",
       "2 2010-01-17  388.714894  388.366800  389.470560   388.714894   388.714894   \n",
       "3 2010-01-24  388.752865  388.575521  389.632074   388.752865   388.752865   \n",
       "4 2010-01-31  388.790836  388.765532  389.805666   388.790836   388.790836   \n",
       "\n",
       "   additive_terms  additive_terms_lower  additive_terms_upper    yearly  \\\n",
       "0       -0.172796             -0.172796             -0.172796 -0.172796   \n",
       "1        0.020935              0.020935              0.020935  0.020935   \n",
       "2        0.204743              0.204743              0.204743  0.204743   \n",
       "3        0.366827              0.366827              0.366827  0.366827   \n",
       "4        0.503901              0.503901              0.503901  0.503901   \n",
       "\n",
       "   yearly_lower  yearly_upper  multiplicative_terms  \\\n",
       "0     -0.172796     -0.172796                   0.0   \n",
       "1      0.020935      0.020935                   0.0   \n",
       "2      0.204743      0.204743                   0.0   \n",
       "3      0.366827      0.366827                   0.0   \n",
       "4      0.503901      0.503901                   0.0   \n",
       "\n",
       "   multiplicative_terms_lower  multiplicative_terms_upper        yhat  \n",
       "0                         0.0                         0.0  388.466155  \n",
       "1                         0.0                         0.0  388.697858  \n",
       "2                         0.0                         0.0  388.919637  \n",
       "3                         0.0                         0.0  389.119692  \n",
       "4                         0.0                         0.0  389.294737  "
      ]
     },
     "execution_count": 21,
     "metadata": {},
     "output_type": "execute_result"
    }
   ],
   "source": [
    "forecast=m.predict(future)\n",
    "forecast.head()"
   ]
  },
  {
   "cell_type": "code",
   "execution_count": 22,
   "metadata": {},
   "outputs": [
    {
     "data": {
      "image/png": "[encoded data removed]",
      "text/plain": [
       "<Figure size 432x288 with 1 Axes>"
      ]
     },
     "metadata": {
      "needs_background": "light"
     },
     "output_type": "display_data"
    }
   ],
   "source": [
    "# yhat\n",
    "\n",
    "plt.plot(train.date, train.ppm_fixed, label='train');\n",
    "plt.plot(test.date, test.ppm_fixed, label='test');\n",
    "plt.plot(test.date, forecast.yhat, label='forecast');\n",
    "plt.legend();"
   ]
  },
  {
   "cell_type": "code",
   "execution_count": 25,
   "metadata": {},
   "outputs": [
    {
     "data": {
      "image/png": "[encoded data removed]",
      "text/plain": [
       "<Figure size 720x432 with 1 Axes>"
      ]
     },
     "metadata": {},
     "output_type": "display_data"
    }
   ],
   "source": [
    "m.plot(forecast);"
   ]
  },
  {
   "cell_type": "code",
   "execution_count": null,
   "metadata": {},
   "outputs": [],
   "source": []
  }
 ],
 "metadata": {
  "kernelspec": {
   "display_name": "Python 3",
   "language": "python",
   "name": "python3"
  },
  "language_info": {
   "codemirror_mode": {
    "name": "ipython",
    "version": 3
   },
   "file_extension": ".py",
   "mimetype": "text/x-python",
   "name": "python",
   "nbconvert_exporter": "python",
   "pygments_lexer": "ipython3",
   "version": "3.7.1"
  }
 },
 "nbformat": 4,
 "nbformat_minor": 2
}
